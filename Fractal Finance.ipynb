{
 "cells": [
  {
   "cell_type": "code",
   "execution_count": 1,
   "metadata": {},
   "outputs": [],
   "source": [
    "import Random_Walks_Code as rwc\n",
    "import pandas as pd\n",
    "import numpy as np\n",
    "import random\n",
    "import statistics\n",
    "import matplotlib.pyplot as plt\n",
    "import math\n",
    "import seaborn as sns"
   ]
  },
  {
   "cell_type": "code",
   "execution_count": null,
   "metadata": {},
   "outputs": [],
   "source": []
  },
  {
   "cell_type": "code",
   "execution_count": 2,
   "metadata": {},
   "outputs": [],
   "source": [
    "df_nifty_safe_haven = pd.read_csv(\"C://Users/Prithvi Krishna/Documents/Safe Haven/Nifty Data for Safe Haven.csv\")"
   ]
  },
  {
   "cell_type": "code",
   "execution_count": null,
   "metadata": {},
   "outputs": [],
   "source": []
  },
  {
   "cell_type": "code",
   "execution_count": 3,
   "metadata": {},
   "outputs": [],
   "source": [
    "nifty_random_walk  = rwc.IndexRandomWalk(25, 10000, 1, df_nifty_safe_haven['Close'], df_nifty_safe_haven['Date'])"
   ]
  },
  {
   "cell_type": "code",
   "execution_count": 4,
   "metadata": {},
   "outputs": [],
   "source": [
    "nifty_yearly_returns = nifty_random_walk.YearlyChange()\n",
    "nifty_daily_change = nifty_random_walk.DailyChange()\n",
    "#nifty_daily_change\n",
    "#nifty_yearly_returns"
   ]
  },
  {
   "cell_type": "code",
   "execution_count": 5,
   "metadata": {},
   "outputs": [],
   "source": [
    "pos_nifty_daily_change = []\n",
    "neg_nifty_daily_change = []\n",
    "for i in nifty_daily_change:\n",
    "    if i>0:\n",
    "        pos_nifty_daily_change.append(i)\n",
    "    if i<0:\n",
    "        neg_nifty_daily_change.append(i)\n",
    "        "
   ]
  },
  {
   "cell_type": "code",
   "execution_count": 9,
   "metadata": {},
   "outputs": [
    {
     "name": "stdout",
     "output_type": "stream",
     "text": [
      "Positive change Median: 0.006979108892586388\n",
      "Positive Change Mean:0.009483154228779099\n"
     ]
    }
   ],
   "source": [
    "len(pos_nifty_daily_change)\n",
    "print(\"Positive change Median: {}\\nPositive Change Mean:{}\".format(statistics.median(pos_nifty_daily_change), statistics.mean(pos_nifty_daily_change)))"
   ]
  },
  {
   "cell_type": "code",
   "execution_count": 12,
   "metadata": {},
   "outputs": [
    {
     "name": "stdout",
     "output_type": "stream",
     "text": [
      "Negative change Median: -0.006859022693727344\n",
      "Negative Change Mean:-0.009960447311666452\n"
     ]
    }
   ],
   "source": [
    "len(neg_nifty_daily_change)\n",
    "print(\"Negative change Median: {}\\nNegative Change Mean:{}\".format(statistics.median(neg_nifty_daily_change), statistics.mean(neg_nifty_daily_change)))"
   ]
  },
  {
   "cell_type": "code",
   "execution_count": 13,
   "metadata": {},
   "outputs": [
    {
     "data": {
      "text/plain": [
       "(array([  1.,   0.,   2.,   0.,   0.,   0.,   0.,   0.,   0.,   0.,   0.,\n",
       "          0.,   0.,   1.,   0.,   1.,   1.,   1.,   0.,   0.,   3.,   0.,\n",
       "          5.,   3.,   2.,   8.,   6.,   7.,  11.,  17.,  19.,  20.,  29.,\n",
       "         39.,  67.,  72., 113., 167., 252., 341., 440., 589., 708., 630.,\n",
       "        498., 365., 251., 170., 130.,  75.,  50.,  35.,  26.,  18.,  17.,\n",
       "          3.,   8.,   3.,   4.,   4.,   5.,   3.,   4.,   2.,   1.,   1.,\n",
       "          0.,   0.,   0.,   1.,   1.,   0.,   0.,   0.,   0.,   0.,   0.,\n",
       "          0.,   0.,   0.,   0.,   0.,   0.,   0.,   0.,   0.,   0.,   0.,\n",
       "          0.,   0.,   0.,   0.,   0.,   0.,   0.,   0.,   0.,   0.,   0.,\n",
       "          1.]),\n",
       " array([-0.12980464, -0.12673219, -0.12365974, -0.12058728, -0.11751483,\n",
       "        -0.11444238, -0.11136992, -0.10829747, -0.10522502, -0.10215256,\n",
       "        -0.09908011, -0.09600766, -0.09293521, -0.08986275, -0.0867903 ,\n",
       "        -0.08371785, -0.08064539, -0.07757294, -0.07450049, -0.07142803,\n",
       "        -0.06835558, -0.06528313, -0.06221067, -0.05913822, -0.05606577,\n",
       "        -0.05299332, -0.04992086, -0.04684841, -0.04377596, -0.0407035 ,\n",
       "        -0.03763105, -0.0345586 , -0.03148614, -0.02841369, -0.02534124,\n",
       "        -0.02226879, -0.01919633, -0.01612388, -0.01305143, -0.00997897,\n",
       "        -0.00690652, -0.00383407, -0.00076161,  0.00231084,  0.00538329,\n",
       "         0.00845574,  0.0115282 ,  0.01460065,  0.0176731 ,  0.02074556,\n",
       "         0.02381801,  0.02689046,  0.02996292,  0.03303537,  0.03610782,\n",
       "         0.03918027,  0.04225273,  0.04532518,  0.04839763,  0.05147009,\n",
       "         0.05454254,  0.05761499,  0.06068745,  0.0637599 ,  0.06683235,\n",
       "         0.0699048 ,  0.07297726,  0.07604971,  0.07912216,  0.08219462,\n",
       "         0.08526707,  0.08833952,  0.09141198,  0.09448443,  0.09755688,\n",
       "         0.10062933,  0.10370179,  0.10677424,  0.10984669,  0.11291915,\n",
       "         0.1159916 ,  0.11906405,  0.12213651,  0.12520896,  0.12828141,\n",
       "         0.13135386,  0.13442632,  0.13749877,  0.14057122,  0.14364368,\n",
       "         0.14671613,  0.14978858,  0.15286104,  0.15593349,  0.15900594,\n",
       "         0.1620784 ,  0.16515085,  0.1682233 ,  0.17129575,  0.17436821,\n",
       "         0.17744066]),\n",
       " <a list of 100 Patch objects>)"
      ]
     },
     "execution_count": 13,
     "metadata": {},
     "output_type": "execute_result"
    },
    {
     "data": {
      "image/png": "[encoded data removed]",
      "text/plain": [
       "<Figure size 432x288 with 1 Axes>"
      ]
     },
     "metadata": {
      "needs_background": "light"
     },
     "output_type": "display_data"
    }
   ],
   "source": [
    "plt.hist(nifty_daily_change, bins = 100)"
   ]
  },
  {
   "cell_type": "code",
   "execution_count": 14,
   "metadata": {},
   "outputs": [
    {
     "data": {
      "image/png": "[encoded data removed]",
      "text/plain": [
       "<Figure size 432x288 with 1 Axes>"
      ]
     },
     "metadata": {
      "needs_background": "light"
     },
     "output_type": "display_data"
    }
   ],
   "source": [
    "pos_hist_obj = plt.hist(pos_nifty_daily_change, bins= 30)"
   ]
  },
  {
   "cell_type": "code",
   "execution_count": 15,
   "metadata": {},
   "outputs": [
    {
     "data": {
      "image/png": "[encoded data removed]",
      "text/plain": [
       "<Figure size 432x288 with 1 Axes>"
      ]
     },
     "metadata": {
      "needs_background": "light"
     },
     "output_type": "display_data"
    }
   ],
   "source": [
    "neg_hist_obj = plt.hist(neg_nifty_daily_change, bins = 30)"
   ]
  },
  {
   "cell_type": "code",
   "execution_count": 16,
   "metadata": {},
   "outputs": [],
   "source": [
    "pos_ret_freq = pos_hist_obj[0]"
   ]
  },
  {
   "cell_type": "code",
   "execution_count": 17,
   "metadata": {},
   "outputs": [],
   "source": [
    "pos_ret_val = pos_hist_obj[1]"
   ]
  },
  {
   "cell_type": "code",
   "execution_count": 18,
   "metadata": {},
   "outputs": [
    {
     "data": {
      "text/plain": [
       "30"
      ]
     },
     "execution_count": 18,
     "metadata": {},
     "output_type": "execute_result"
    }
   ],
   "source": [
    "log_pos_ret_val = []\n",
    "log_pos_ret_freq = []\n",
    "pos_ret_len = len(pos_ret_freq)\n",
    "pos_ret_len"
   ]
  },
  {
   "cell_type": "code",
   "execution_count": 19,
   "metadata": {},
   "outputs": [],
   "source": [
    "for i in range(pos_ret_len):\n",
    "    if(pos_ret_freq[i] > 0):\n",
    "        log_pos_ret_freq.append(math.log(pos_ret_freq[i]))\n",
    "        log_pos_ret_val.append(math.log(pos_ret_val[i]))"
   ]
  },
  {
   "cell_type": "code",
   "execution_count": 20,
   "metadata": {},
   "outputs": [
    {
     "data": {
      "text/plain": [
       "30"
      ]
     },
     "execution_count": 20,
     "metadata": {},
     "output_type": "execute_result"
    }
   ],
   "source": [
    "neg_ret_val = neg_hist_obj[1]\n",
    "neg_ret_freq = neg_hist_obj[0]\n",
    "log_neg_ret_val = []\n",
    "log_neg_ret_freq = []\n",
    "neg_ret_len = len(neg_ret_freq)\n",
    "neg_ret_len"
   ]
  },
  {
   "cell_type": "code",
   "execution_count": 21,
   "metadata": {},
   "outputs": [],
   "source": [
    "for i in range(neg_ret_len):\n",
    "    if(neg_ret_freq[i] > 0):\n",
    "        log_neg_ret_freq.append(math.log(neg_ret_freq[i]))\n",
    "        log_neg_ret_val.append(math.log(-1 * neg_ret_val[i]))"
   ]
  },
  {
   "cell_type": "code",
   "execution_count": 23,
   "metadata": {},
   "outputs": [
    {
     "data": {
      "image/png": "[encoded data removed]",
      "text/plain": [
       "<Figure size 432x288 with 1 Axes>"
      ]
     },
     "metadata": {
      "needs_background": "light"
     },
     "output_type": "display_data"
    }
   ],
   "source": [
    "plt.scatter(log_pos_ret_val, log_pos_ret_freq, c = 'red',label = 'Positive Changes' )\n",
    "plt.scatter(log_neg_ret_val, log_neg_ret_freq, c = 'blue', label = 'Negative Changes')\n",
    "plt.xlabel('Log % Change (positive/negative)')\n",
    "plt.ylabel('Log Frequency')\n",
    "plt.legend(loc = 'lower left')\n",
    "plt.show()"
   ]
  },
  {
   "cell_type": "code",
   "execution_count": 27,
   "metadata": {},
   "outputs": [
    {
     "data": {
      "text/plain": [
       "<matplotlib.axes._subplots.AxesSubplot at 0x224e7bdebc8>"
      ]
     },
     "execution_count": 27,
     "metadata": {},
     "output_type": "execute_result"
    },
    {
     "data": {
      "image/png": "[encoded data removed]",
      "text/plain": [
       "<Figure size 432x288 with 1 Axes>"
      ]
     },
     "metadata": {
      "needs_background": "light"
     },
     "output_type": "display_data"
    }
   ],
   "source": [
    "sns.regplot(log_pos_ret_val, log_pos_ret_freq, color = 'red' )\n",
    "sns.regplot(log_neg_ret_val, log_neg_ret_freq, color = 'blue')\n"
   ]
  },
  {
   "cell_type": "code",
   "execution_count": 25,
   "metadata": {},
   "outputs": [],
   "source": [
    "#sns.regression(log_pos_ret_val, log_pos_ret_freq, color = 'red' )"
   ]
  },
  {
   "cell_type": "code",
   "execution_count": 45,
   "metadata": {},
   "outputs": [],
   "source": [
    "import statistics"
   ]
  },
  {
   "cell_type": "code",
   "execution_count": 62,
   "metadata": {},
   "outputs": [],
   "source": [
    "z = np.random.normal(0, 1, 1000)"
   ]
  },
  {
   "cell_type": "code",
   "execution_count": 63,
   "metadata": {},
   "outputs": [
    {
     "data": {
      "image/png": "[encoded data removed]",
      "text/plain": [
       "<Figure size 432x288 with 1 Axes>"
      ]
     },
     "metadata": {
      "needs_background": "light"
     },
     "output_type": "display_data"
    }
   ],
   "source": [
    "norm_dist = plt.hist(z, 100)"
   ]
  },
  {
   "cell_type": "code",
   "execution_count": 64,
   "metadata": {},
   "outputs": [],
   "source": [
    "norm_dist_freq = norm_dist[0]\n",
    "norm_dist_val = norm_dist[1]"
   ]
  },
  {
   "cell_type": "code",
   "execution_count": 65,
   "metadata": {},
   "outputs": [],
   "source": [
    "#pos_norm_freq = []\n",
    "pos_norm_val = []\n",
    "neg_norm_val = []\n",
    "for i in (norm_dist_val):\n",
    "    if i>0:\n",
    "        pos_norm_val.append(i)\n",
    "    elif i<0:\n",
    "        neg_norm_val.append(i)\n",
    "        \n",
    "        "
   ]
  },
  {
   "cell_type": "code",
   "execution_count": 66,
   "metadata": {},
   "outputs": [
    {
     "data": {
      "text/plain": [
       "(array([3., 2., 3., 2., 3., 2., 3., 2., 3., 2., 2., 3., 2., 3., 2., 3., 2.,\n",
       "        3., 2., 3.]),\n",
       " array([-3.40438571, -3.2371074 , -3.06982909, -2.90255079, -2.73527248,\n",
       "        -2.56799417, -2.40071587, -2.23343756, -2.06615926, -1.89888095,\n",
       "        -1.73160264, -1.56432434, -1.39704603, -1.22976772, -1.06248942,\n",
       "        -0.89521111, -0.72793281, -0.5606545 , -0.39337619, -0.22609789,\n",
       "        -0.05881958]),\n",
       " <a list of 20 Patch objects>)"
      ]
     },
     "execution_count": 66,
     "metadata": {},
     "output_type": "execute_result"
    },
    {
     "data": {
      "image/png": "[encoded data removed]",
      "text/plain": [
       "<Figure size 432x288 with 1 Axes>"
      ]
     },
     "metadata": {
      "needs_background": "light"
     },
     "output_type": "display_data"
    }
   ],
   "source": [
    "pos_norm_obj = plt.hist(pos_norm_val, bins = 20)\n",
    "neg_norm_obj = plt.hist(neg_norm_val, bins = 20)\n",
    "neg_norm_obj"
   ]
  },
  {
   "cell_type": "code",
   "execution_count": 67,
   "metadata": {},
   "outputs": [
    {
     "data": {
      "text/plain": [
       "20"
      ]
     },
     "execution_count": 67,
     "metadata": {},
     "output_type": "execute_result"
    }
   ],
   "source": [
    "norm_neg_ret_val = neg_norm_obj[1]\n",
    "norm_neg_ret_freq = neg_norm_obj[0]\n",
    "log_norm_neg_ret_val = []\n",
    "log_norm_neg_ret_freq = []\n",
    "neg_norm_ret_len = len(norm_neg_ret_freq)\n",
    "neg_norm_ret_len"
   ]
  },
  {
   "cell_type": "code",
   "execution_count": 68,
   "metadata": {},
   "outputs": [],
   "source": [
    "for i in range(neg_norm_ret_len):\n",
    "    if(norm_neg_ret_freq[i] > 0):\n",
    "        log_norm_neg_ret_freq.append(math.log(norm_neg_ret_freq[i]))\n",
    "        log_norm_neg_ret_val.append(math.log(-1 * norm_neg_ret_val[i]))"
   ]
  },
  {
   "cell_type": "code",
   "execution_count": 69,
   "metadata": {},
   "outputs": [
    {
     "data": {
      "image/png": "[encoded data removed]",
      "text/plain": [
       "<Figure size 432x288 with 1 Axes>"
      ]
     },
     "metadata": {
      "needs_background": "light"
     },
     "output_type": "display_data"
    }
   ],
   "source": [
    "plt.scatter(log_norm_neg_ret_val, log_norm_neg_ret_freq, c = 'red' )\n",
    "#plt.scatter(log_neg_ret_val, log_neg_ret_freq, c = 'blue')\n",
    "plt.xlabel('Log Changes (positive/negative)')\n",
    "plt.ylabel('Log Frequency')\n",
    "#plt.legend(loc = 'upper left')\n",
    "plt.show()"
   ]
  },
  {
   "cell_type": "code",
   "execution_count": null,
   "metadata": {},
   "outputs": [],
   "source": []
  }
 ],
 "metadata": {
  "kernelspec": {
   "display_name": "Python 3",
   "language": "python",
   "name": "python3"
  },
  "language_info": {
   "codemirror_mode": {
    "name": "ipython",
    "version": 3
   },
   "file_extension": ".py",
   "mimetype": "text/x-python",
   "name": "python",
   "nbconvert_exporter": "python",
   "pygments_lexer": "ipython3",
   "version": "3.7.6"
  }
 },
 "nbformat": 4,
 "nbformat_minor": 4
}
